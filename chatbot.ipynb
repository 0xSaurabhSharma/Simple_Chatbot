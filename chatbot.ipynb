{
 "cells": [
  {
   "cell_type": "code",
   "execution_count": 1,
   "metadata": {},
   "outputs": [],
   "source": [
    "import os\n",
    "from dotenv import load_dotenv\n",
    "load_dotenv()\n",
    "\n",
    "groq_api_key = os.getenv('GROQ_API_KEY')"
   ]
  },
  {
   "cell_type": "code",
   "execution_count": 2,
   "metadata": {},
   "outputs": [],
   "source": [
    "from langchain_groq import ChatGroq\n",
    "llm = ChatGroq(model='Gemma2-9b-it',groq_api_key=groq_api_key)"
   ]
  },
  {
   "cell_type": "code",
   "execution_count": 3,
   "metadata": {},
   "outputs": [
    {
     "data": {
      "text/plain": [
       "AIMessage(content='Hey Sourabh! 👋\\n\\nNice to meet you. What can I do for you today? 😊  \\n', additional_kwargs={}, response_metadata={'token_usage': {'completion_tokens': 24, 'prompt_tokens': 17, 'total_tokens': 41, 'completion_time': 0.043636364, 'prompt_time': 0.000237549, 'queue_time': 0.046756118000000006, 'total_time': 0.043873913}, 'model_name': 'Gemma2-9b-it', 'system_fingerprint': 'fp_10c08bf97d', 'finish_reason': 'stop', 'logprobs': None}, id='run-4f188ccb-4a35-4a6a-b208-b958acdc5285-0', usage_metadata={'input_tokens': 17, 'output_tokens': 24, 'total_tokens': 41})"
      ]
     },
     "execution_count": 3,
     "metadata": {},
     "output_type": "execute_result"
    }
   ],
   "source": [
    "from langchain_core.messages import HumanMessage\n",
    "llm.invoke([HumanMessage(content='Heyy, My name is sourabh')])"
   ]
  },
  {
   "cell_type": "code",
   "execution_count": 4,
   "metadata": {},
   "outputs": [
    {
     "data": {
      "text/plain": [
       "AIMessage(content=\"You told me your name is Sourabh Sharma!  \\n\\nI don't know where you're from.  Could you tell me?  \\n\\nKnowing your friends' last names (Berge, Bedre, Patil) gives me a hint that you might be from India, but I could be wrong. 😊 \\n\\n\", additional_kwargs={}, response_metadata={'token_usage': {'completion_tokens': 69, 'prompt_tokens': 82, 'total_tokens': 151, 'completion_time': 0.125454545, 'prompt_time': 0.002394633, 'queue_time': 0.025266175, 'total_time': 0.127849178}, 'model_name': 'Gemma2-9b-it', 'system_fingerprint': 'fp_10c08bf97d', 'finish_reason': 'stop', 'logprobs': None}, id='run-c5e529e6-9a37-4803-b775-f37772e000c4-0', usage_metadata={'input_tokens': 82, 'output_tokens': 69, 'total_tokens': 151})"
      ]
     },
     "execution_count": 4,
     "metadata": {},
     "output_type": "execute_result"
    }
   ],
   "source": [
    "from langchain_core.messages import AIMessage\n",
    "llm.invoke([\n",
    "    HumanMessage(content='Heyy, My name is sourabh sharma, surname of my friends are berge, bedre, patil'),\n",
    "    AIMessage(content=\"Hey Sourabh! 👋  \\n\\nIt's nice to meet you. What can I do for you today? 😊  \\n\\n\"),\n",
    "    HumanMessage(content='Heyy whats my name ? and what do you think i belong from ?')\n",
    "])"
   ]
  },
  {
   "cell_type": "markdown",
   "metadata": {},
   "source": [
    "### Message History\n",
    "Wrapping model in message history class and making it stateful, store it in DB & respond with that context"
   ]
  },
  {
   "cell_type": "code",
   "execution_count": 7,
   "metadata": {},
   "outputs": [],
   "source": [
    "from langchain_community.chat_message_histories import ChatMessageHistory\n",
    "from langchain_core.chat_history import BaseChatMessageHistory\n",
    "from langchain_core.runnables.history import RunnableWithMessageHistory\n",
    "\n",
    "store = {}\n",
    "\n",
    "def get_session_history(session_id:str) -> BaseChatMessageHistory:\n",
    "    if session_id not in store: \n",
    "        store[session_id] = ChatMessageHistory()\n",
    "    return store[session_id]\n",
    "\n",
    "with_msg_history = RunnableWithMessageHistory(llm, get_session_history)"
   ]
  },
  {
   "cell_type": "code",
   "execution_count": 16,
   "metadata": {},
   "outputs": [],
   "source": [
    "config={'configurable':{'session_id':'chat001'}}"
   ]
  },
  {
   "cell_type": "code",
   "execution_count": 11,
   "metadata": {},
   "outputs": [],
   "source": [
    "res = with_msg_history.invoke(\n",
    "    [HumanMessage(content='Heyy, My name is Saurabh, I am learning about llm, langchain, genAI, NLP, CV, AgenticAi')],\n",
    "    config=config\n",
    ")"
   ]
  },
  {
   "cell_type": "code",
   "execution_count": 12,
   "metadata": {},
   "outputs": [
    {
     "data": {
      "text/plain": [
       "\"Hey Saurabh! 👋 \\n\\nThat's a fantastic list of topics you're diving into. They're all super exciting and rapidly evolving fields in the world of AI. \\n\\nSince you're exploring so much, I'm curious – what sparked your interest in these areas?  Are you drawn to a particular application or aspect of AI? \\n\\nTell me more about what you're hoping to learn or build! 😊  I'm here to help in any way I can. \\n\\n\""
      ]
     },
     "execution_count": 12,
     "metadata": {},
     "output_type": "execute_result"
    }
   ],
   "source": [
    "res.content"
   ]
  },
  {
   "cell_type": "code",
   "execution_count": 17,
   "metadata": {},
   "outputs": [
    {
     "data": {
      "text/plain": [
       "AIMessage(content='Your name is Saurabh! 😊  I remember!  Is there anything else I can help you with? \\n', additional_kwargs={}, response_metadata={'token_usage': {'completion_tokens': 26, 'prompt_tokens': 619, 'total_tokens': 645, 'completion_time': 0.047272727, 'prompt_time': 0.019798191, 'queue_time': 0.025313625, 'total_time': 0.067070918}, 'model_name': 'Gemma2-9b-it', 'system_fingerprint': 'fp_10c08bf97d', 'finish_reason': 'stop', 'logprobs': None}, id='run-b948fbbb-32f2-4b13-80a6-f975be56781e-0', usage_metadata={'input_tokens': 619, 'output_tokens': 26, 'total_tokens': 645})"
      ]
     },
     "execution_count": 17,
     "metadata": {},
     "output_type": "execute_result"
    }
   ],
   "source": [
    "with_msg_history.invoke(\n",
    "    [HumanMessage(content='Hey whats my name')],\n",
    "    config=config\n",
    ")"
   ]
  },
  {
   "cell_type": "code",
   "execution_count": 18,
   "metadata": {},
   "outputs": [
    {
     "data": {
      "text/plain": [
       "{'chat001': InMemoryChatMessageHistory(messages=[HumanMessage(content='Heyy, My name is Saurabh, I am learning about llm, langchain, genAI, NLP, CV, AgenticAi', additional_kwargs={}, response_metadata={}), AIMessage(content='Hey Saurabh! 👋\\n\\nThat\\'s a fantastic list of topics you\\'re learning about! They\\'re all incredibly exciting fields at the forefront of AI research and development. \\n\\n**Let\\'s break down each one a bit:**\\n\\n* **LLMs (Large Language Models):** These are powerful AI models trained on massive text datasets, enabling them to understand and generate human-like text. Think of ChatGPT, Bard, or LaMDA – they\\'re all examples of LLMs.\\n\\n* **LangChain:** This is a framework that helps you build applications using LLMs. It provides tools for interacting with LLMs, managing their memory, and chaining together different AI components. \\n\\n* **GenAI (Generative AI):** This is a broad term that encompasses AI models capable of creating new content, like text, images, audio, and even code. LLMs are a type of GenAI, but the field also includes models like DALL-E 2 (for images) and Jukebox (for music).\\n\\n* **NLP (Natural Language Processing):** This is a subfield of AI focused on enabling computers to understand, interpret, and generate human language. It\\'s essential for many applications, including chatbots, machine translation, and sentiment analysis.\\n\\n* **CV (Computer Vision):** This field deals with enabling computers to \"see\" and interpret images and videos. Applications include object detection, facial recognition, and medical image analysis.\\n\\n* **Agentic AI:** This is a relatively new area exploring AI systems that can act autonomously and make decisions in complex environments. Think of AI assistants that can manage your schedule, book appointments, or even play games.\\n\\n**It sounds like you\\'re on a great path!** Do you have any specific questions about any of these topics? I\\'d be happy to help you learn more.\\n', additional_kwargs={}, response_metadata={'token_usage': {'completion_tokens': 385, 'prompt_tokens': 38, 'total_tokens': 423, 'completion_time': 0.7, 'prompt_time': 0.001629777, 'queue_time': 0.024124858000000002, 'total_time': 0.701629777}, 'model_name': 'Gemma2-9b-it', 'system_fingerprint': 'fp_10c08bf97d', 'finish_reason': 'stop', 'logprobs': None}, id='run-975f723c-8490-4aa3-8a16-e7125188f5fa-0', usage_metadata={'input_tokens': 38, 'output_tokens': 385, 'total_tokens': 423}), HumanMessage(content='Heyy, My name is Saurabh, I am learning about llm, langchain, genAI, NLP, CV, AgenticAi', additional_kwargs={}, response_metadata={}), AIMessage(content=\"Hey Saurabh! 👋 \\n\\nThat's a fantastic list of topics you're diving into. They're all super exciting and rapidly evolving fields in the world of AI. \\n\\nSince you're exploring so much, I'm curious – what sparked your interest in these areas?  Are you drawn to a particular application or aspect of AI? \\n\\nTell me more about what you're hoping to learn or build! 😊  I'm here to help in any way I can. \\n\\n\", additional_kwargs={}, response_metadata={'token_usage': {'completion_tokens': 108, 'prompt_tokens': 460, 'total_tokens': 568, 'completion_time': 0.196363636, 'prompt_time': 0.015235613, 'queue_time': 0.024488958999999998, 'total_time': 0.211599249}, 'model_name': 'Gemma2-9b-it', 'system_fingerprint': 'fp_10c08bf97d', 'finish_reason': 'stop', 'logprobs': None}, id='run-a4d2a46d-ff9f-474c-82b6-2503f322b8eb-0', usage_metadata={'input_tokens': 460, 'output_tokens': 108, 'total_tokens': 568}), HumanMessage(content='Hey whats my name', additional_kwargs={}, response_metadata={}), AIMessage(content='Your name is Saurabh! 😊  We met just a few messages ago.  How can I help you today? \\n', additional_kwargs={}, response_metadata={'token_usage': {'completion_tokens': 28, 'prompt_tokens': 579, 'total_tokens': 607, 'completion_time': 0.050909091, 'prompt_time': 0.023624512, 'queue_time': 0.032941614, 'total_time': 0.074533603}, 'model_name': 'Gemma2-9b-it', 'system_fingerprint': 'fp_10c08bf97d', 'finish_reason': 'stop', 'logprobs': None}, id='run-ae15a60b-1391-4d40-9e72-01cecec3ad5a-0', usage_metadata={'input_tokens': 579, 'output_tokens': 28, 'total_tokens': 607}), HumanMessage(content='Hey whats my name', additional_kwargs={}, response_metadata={}), AIMessage(content='Your name is Saurabh! 😊  I remember!  Is there anything else I can help you with? \\n', additional_kwargs={}, response_metadata={'token_usage': {'completion_tokens': 26, 'prompt_tokens': 619, 'total_tokens': 645, 'completion_time': 0.047272727, 'prompt_time': 0.019798191, 'queue_time': 0.025313625, 'total_time': 0.067070918}, 'model_name': 'Gemma2-9b-it', 'system_fingerprint': 'fp_10c08bf97d', 'finish_reason': 'stop', 'logprobs': None}, id='run-b948fbbb-32f2-4b13-80a6-f975be56781e-0', usage_metadata={'input_tokens': 619, 'output_tokens': 26, 'total_tokens': 645})]),\n",
       " 'chat002': InMemoryChatMessageHistory(messages=[HumanMessage(content='Hey whats my name', additional_kwargs={}, response_metadata={}), AIMessage(content=\"As an AI, I have no memory of past conversations and do not know your name. If you'd like to tell me, I'd be happy to use it! 😊\\n\", additional_kwargs={}, response_metadata={'token_usage': {'completion_tokens': 40, 'prompt_tokens': 13, 'total_tokens': 53, 'completion_time': 0.072727273, 'prompt_time': 7.781e-05, 'queue_time': 0.021463525, 'total_time': 0.072805083}, 'model_name': 'Gemma2-9b-it', 'system_fingerprint': 'fp_10c08bf97d', 'finish_reason': 'stop', 'logprobs': None}, id='run-7a6bba3f-d9fa-4bd3-82ba-f426e1ba7df4-0', usage_metadata={'input_tokens': 13, 'output_tokens': 40, 'total_tokens': 53})])}"
      ]
     },
     "execution_count": 18,
     "metadata": {},
     "output_type": "execute_result"
    }
   ],
   "source": [
    "store"
   ]
  },
  {
   "cell_type": "code",
   "execution_count": null,
   "metadata": {},
   "outputs": [],
   "source": []
  }
 ],
 "metadata": {
  "kernelspec": {
   "display_name": "Python 3",
   "language": "python",
   "name": "python3"
  },
  "language_info": {
   "codemirror_mode": {
    "name": "ipython",
    "version": 3
   },
   "file_extension": ".py",
   "mimetype": "text/x-python",
   "name": "python",
   "nbconvert_exporter": "python",
   "pygments_lexer": "ipython3",
   "version": "3.12.1"
  }
 },
 "nbformat": 4,
 "nbformat_minor": 2
}
